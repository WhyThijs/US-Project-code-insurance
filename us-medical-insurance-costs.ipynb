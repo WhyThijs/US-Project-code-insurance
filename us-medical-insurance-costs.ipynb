{
 "cells": [
  {
   "cell_type": "markdown",
   "metadata": {},
   "source": [
    "# U.S. Medical Insurance Costs"
   ]
  },
  {
   "cell_type": "code",
   "execution_count": 596,
   "metadata": {},
   "outputs": [
    {
     "data": {
      "text/plain": [
       "\"The average charge from this past year, for the sex 'male' has been: $13956.75\""
      ]
     },
     "execution_count": 596,
     "metadata": {},
     "output_type": "execute_result"
    }
   ],
   "source": [
    "import csv\n",
    "import time\n",
    "\n",
    "## open .csv file, read all rows to one dict, split all field to unique variables\n",
    "with open('insurance.csv', newline='') as data:\n",
    "    #read CSV file\n",
    "    csv_read = csv.DictReader(data)\n",
    "    #create emtpy dict and list to store values\n",
    "    insurance_csv = {}\n",
    "    ages = []\n",
    "    sex = []\n",
    "    bmi = []\n",
    "    children = []\n",
    "    smoker = []\n",
    "    region = []\n",
    "    charges = []\n",
    "    # give all patients a unique ID\n",
    "    id = 0\n",
    "\n",
    "    #itterate through rows and store all the unigue values to the dict and list\n",
    "    for row in csv_read:\n",
    "        insurance_csv_no_id = row\n",
    "        insurance_csv[id] = row\n",
    "        ages.append(row['age'])\n",
    "        sex.append(row['sex'])\n",
    "        bmi.append(row['bmi'])\n",
    "        children.append(row['children'])\n",
    "        smoker.append(row['smoker'])\n",
    "        region.append(row['region'])\n",
    "        charges.append(row['charges'])\n",
    "        id += 1\n",
    "\n",
    "# Charges in the 'chrarge' list have more than 2 values after the decimal. \n",
    "# Rounding the charges looks neater when printing. The new variable doesn't effect the raw data. \n",
    "rounded_charges = [round(float(charge), 2) for charge in charges]\n",
    "\n",
    "# Function that allows the researcher to open a individual patients file by [id]. \n",
    "# Function checks if the ID is availble and ads differences to the output on the amount of children and smokers status. \n",
    "def call_patient_file (id):\n",
    "    print('Searching patient file...\\n')\n",
    "    time.sleep(2)\n",
    "    if id > len(insurance_csv):\n",
    "        print('No file on record...')\n",
    "        print('Please check the given ID')\n",
    "    else:\n",
    "        if smoker[id] == 'no':\n",
    "            smoke = 'non-smoker'\n",
    "        else:\n",
    "            smoke = 'smoker'\n",
    "        if int(children[id]) == 1:\n",
    "            child = 'child'\n",
    "        else:\n",
    "            child = 'children'\n",
    "        print('Search complete!\\nLoading file...\\n')\n",
    "        time.sleep(1)\n",
    "        print('Patient file of ID: ' + str(id))\n",
    "        print(str(ages[id]) + ' year old ' + sex[id] + ', ' + smoke + ', ' + str(children[id]) + ' ' + child + ', bmi of: ' + str(bmi[id]) + '.')\n",
    "        print('Patient is located in the ' + region[id] + ' region, and had $' + str(rounded_charges[id]) + ' insurance charges last year.')\n",
    "\n",
    "# Call the funtion with a specific ID. \n",
    "#call_patient_file(1032)\n",
    "\n",
    "# Calculates the average charge for all patients\n",
    "def average_charge():\n",
    "    total_charge = 0\n",
    "    count = len(insurance_csv)\n",
    "    for charge in charges:\n",
    "        total_charge += float(charge)\n",
    "    rounded = round(float(total_charge / count),2)\n",
    "    print('The average charge from this past year has been: $' + str(rounded))\n",
    "    return \n",
    "\n",
    "# Runs the function to print the average charge for all patients\n",
    "#average_charge()\n",
    "\n",
    "# Calculates the average charge for all male/female patients\n",
    "def average_charge_sex(sex):\n",
    "    total_charge = 0\n",
    "    line = 0\n",
    "    if sex == 'male':\n",
    "        for rows in insurance_csv.values():\n",
    "            if rows['sex'] == sex:\n",
    "                total_charge += float(rows['charges'])\n",
    "                line += 1\n",
    "        average_charge = total_charge / line\n",
    "        round_charge = round(average_charge, 2)\n",
    "        return 'The average charge from this past year, for the sex \\'' + sex + '\\' has been: $' + str(round_charge)\n",
    "    elif sex == 'female':\n",
    "        for rows in insurance_csv.values():\n",
    "            if rows['sex'] == sex:\n",
    "                total_charge += float(rows['charges'])\n",
    "                line += 1\n",
    "        average_charge = total_charge / line\n",
    "        round_charge = round(average_charge, 2)\n",
    "        return 'The average charge from this past year, for the sex \\'' + sex + '\\' has been: $' + str(round_charge)\n",
    "    else:\n",
    "        return 'The gender: ' + sex + ' is not valid.'\n",
    "\n",
    "# Calls average charge per gender, return a error message when the entered value is not a gender. #non-woke\n",
    "#average_charge_sex('male')\n",
    "\n"
   ]
  },
  {
   "cell_type": "code",
   "execution_count": null,
   "metadata": {},
   "outputs": [],
   "source": []
  },
  {
   "cell_type": "code",
   "execution_count": null,
   "metadata": {},
   "outputs": [],
   "source": []
  }
 ],
 "metadata": {
  "kernelspec": {
   "display_name": "Python 3 (ipykernel)",
   "language": "python",
   "name": "python3"
  },
  "language_info": {
   "codemirror_mode": {
    "name": "ipython",
    "version": 3
   },
   "file_extension": ".py",
   "mimetype": "text/x-python",
   "name": "python",
   "nbconvert_exporter": "python",
   "pygments_lexer": "ipython3",
   "version": "3.12.4"
  }
 },
 "nbformat": 4,
 "nbformat_minor": 4
}
